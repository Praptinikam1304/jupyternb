{
 "cells": [
  {
   "cell_type": "markdown",
   "id": "0643cf68-4164-4ad2-b77f-c6a984a017ab",
   "metadata": {},
   "source": [
    "## Data Science Tools and Ecosystem"
   ]
  },
  {
   "cell_type": "markdown",
   "id": "bb13add3-4f42-45a7-a01a-7e214a349e79",
   "metadata": {},
   "source": [
    " In this notebook, Data Science Tools and Ecosystem are summarised."
   ]
  },
  {
   "cell_type": "markdown",
   "id": "c2e7e82d-045d-4c20-8501-d03ec10cabae",
   "metadata": {},
   "source": [
    "***Objectives:***\n",
    "List popular languages for Data Science\n",
    "- Python\n",
    "- R\n",
    "- SQL"
   ]
  },
  {
   "cell_type": "markdown",
   "id": "a55f3363-def3-4bc9-a104-e68312bd3360",
   "metadata": {},
   "source": [
    "Some of the popular languages that Data Scientists use are :\n",
    "1. Python\n",
    "2. R\n",
    "3. SQL"
   ]
  },
  {
   "cell_type": "markdown",
   "id": "2ad8797f-ab80-46a6-9603-75349010e803",
   "metadata": {},
   "source": [
    "Some of the commonly used libraries used by data scientists are:\n",
    "1. Matplotlib\n",
    "2. Pandas\n",
    "3. Numpy"
   ]
  },
  {
   "cell_type": "markdown",
   "id": "be91d7ea-afd2-4eaf-a420-f96c3f216d1e",
   "metadata": {},
   "source": [
    "Data Science Tools\n",
    "------------------\n",
    "Apache Hadoop\n",
    "\n",
    "Apache Hive\n",
    "\n",
    "Apache Spark"
   ]
  },
  {
   "cell_type": "markdown",
   "id": "10220d8b-99e7-4b80-9952-860aae32f812",
   "metadata": {},
   "source": [
    "### Below are a few examples of evaluating arithmetic expressions of python"
   ]
  },
  {
   "cell_type": "code",
   "execution_count": 1,
   "id": "edf883c9-5a42-4185-8f6d-11a9c2bf5bbf",
   "metadata": {},
   "outputs": [
    {
     "data": {
      "text/plain": [
       "17"
      ]
     },
     "execution_count": 1,
     "metadata": {},
     "output_type": "execute_result"
    }
   ],
   "source": [
    "#This is a simple arithmetic expression to multiply and then add integers\n",
    "(3*4)+5"
   ]
  },
  {
   "cell_type": "code",
   "execution_count": 2,
   "id": "874880a7-cf80-4c66-ae56-d8c2f1d33579",
   "metadata": {},
   "outputs": [
    {
     "data": {
      "text/plain": [
       "3.3333333333333335"
      ]
     },
     "execution_count": 2,
     "metadata": {},
     "output_type": "execute_result"
    }
   ],
   "source": [
    "#This will convert 200 minutes to hours by diving by 60\n",
    "200/60"
   ]
  },
  {
   "cell_type": "markdown",
   "id": "89fd7575-c074-4d97-bb14-da6e981df285",
   "metadata": {},
   "source": [
    "## Author\n",
    "Prapti Nikam"
   ]
  }
 ],
 "metadata": {
  "kernelspec": {
   "display_name": "Python 3 (ipykernel)",
   "language": "python",
   "name": "python3"
  },
  "language_info": {
   "codemirror_mode": {
    "name": "ipython",
    "version": 3
   },
   "file_extension": ".py",
   "mimetype": "text/x-python",
   "name": "python",
   "nbconvert_exporter": "python",
   "pygments_lexer": "ipython3",
   "version": "3.12.8"
  }
 },
 "nbformat": 4,
 "nbformat_minor": 5
}
